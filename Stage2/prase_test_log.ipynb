{
 "cells": [
  {
   "cell_type": "code",
   "execution_count": 73,
   "metadata": {},
   "outputs": [],
   "source": [
    "log_file = 'logs/mri_ct_s1_l0/02_DenseCL_Medical/ft_test_5k_mix_abdominal_mri_densecl_5_fold.log'\n",
    "csv_file = log_file.replace('.log', '.csv')\n",
    "with open(log_file, 'r') as f:\n",
    "    log_data = f.readlines()\n",
    "    for i in range(len(log_data)):\n",
    "        log_data[i] = log_data[i].replace('\\n', '')"
   ]
  },
  {
   "cell_type": "code",
   "execution_count": 74,
   "metadata": {},
   "outputs": [],
   "source": [
    "import re\n",
    "start_indice = []\n",
    "end_indice = []\n",
    "for i in range(len(log_data)):\n",
    "    # start_flag = re.match(r'====== EVAL EVAL_FOLD \\d MODEL_EPOCH \\d{5,6} START ======', log_data[i]) # for test\n",
    "    start_flag = re.match(r'====== EVAL EVAL_FOLD \\d MODEL_EPOCH \\d{4} START ======', log_data[i]) # for ft_test\n",
    "    if start_flag is not None:\n",
    "        start_indice.append(i)\n",
    "    # end_flag = re.match(r'====== EVAL EVAL_FOLD \\d MODEL_EPOCH \\d{5,6} END ======', log_data[i])\n",
    "    end_flag = re.match(r'====== EVAL EVAL_FOLD \\d MODEL_EPOCH \\d{4} END ======', log_data[i])\n",
    "    if end_flag is not None:\n",
    "        end_indice.append(i)\n",
    "assert len(start_indice) == len(end_indice)"
   ]
  },
  {
   "cell_type": "code",
   "execution_count": 75,
   "metadata": {},
   "outputs": [
    {
     "name": "stdout",
     "output_type": "stream",
     "text": [
      "25 25 25 25 25\n"
     ]
    }
   ],
   "source": [
    "eval_fold_list = []\n",
    "model_epoch_list = []\n",
    "right_kindey_dice_list = []\n",
    "left_kindey_dice_list = []\n",
    "mean_dice_list = []\n",
    "for s,e in zip(start_indice, end_indice):\n",
    "    assert int(log_data[s].split(' ')[3])==int(log_data[e].split(' ')[3])\n",
    "    eval_fold = int(log_data[s].split(' ')[3])\n",
    "    eval_fold_list.append(eval_fold)\n",
    "    assert int(log_data[s].split(' ')[5])==int(log_data[e].split(' ')[5])\n",
    "    model_epoch = int(log_data[s].split(' ')[5])\n",
    "    model_epoch_list.append(model_epoch)\n",
    "    class_match_status = False\n",
    "    mean_match_status = False\n",
    "    for i in log_data[s:e]:\n",
    "        class_dice_flag = re.match(r'mar_val batches classDice: \\[([0-9.]+)([ ]+)([0-9.]+)([ ]*)\\]', i)\n",
    "        if class_dice_flag is not None and not class_match_status:\n",
    "            right_kindey_dice = float(class_dice_flag.group(1))\n",
    "            left_kindey_dice = float(class_dice_flag.group(3))\n",
    "            right_kindey_dice_list.append(right_kindey_dice)\n",
    "            left_kindey_dice_list.append(left_kindey_dice)\n",
    "            class_match_status = True\n",
    "        elif class_dice_flag is not None and class_match_status:\n",
    "            raise ValueError(f'classDice has been matched more than once from index {s} to index {e}.')\n",
    "        mean_dice_flag = re.match(r'mar_val batches meanDice:([ ]+)([0-9.]+)([ ]*)', i)\n",
    "        if mean_dice_flag is not None and not mean_match_status:\n",
    "            mean_dice = float(mean_dice_flag.group(2))\n",
    "            mean_dice_list.append(mean_dice)\n",
    "            mean_match_status = True\n",
    "        elif mean_dice_flag is not None and mean_match_status:\n",
    "            raise ValueError(f'meanDice has been matched more than once from index {s} to index {e}.')\n",
    "    if not class_match_status:\n",
    "        right_kindey_dice_list.append(None)\n",
    "        left_kindey_dice_list.append(None)\n",
    "    if not mean_match_status:\n",
    "        mean_dice_list.append(None)\n",
    "print(len(eval_fold_list), len(model_epoch_list), len(right_kindey_dice_list), len(left_kindey_dice_list), len(mean_dice_list))"
   ]
  },
  {
   "cell_type": "code",
   "execution_count": 76,
   "metadata": {},
   "outputs": [],
   "source": [
    "import pandas as pd\n",
    "data_dict = {\n",
    "    'eval fold': eval_fold_list,\n",
    "    'model epoch': model_epoch_list,\n",
    "    'right kindey dice': right_kindey_dice_list,\n",
    "    'left kindey dice': left_kindey_dice_list,\n",
    "    'mean dice': mean_dice_list\n",
    "    }\n",
    "df = pd.DataFrame.from_dict(data_dict)\n",
    "df.to_csv(csv_file, index=False)"
   ]
  },
  {
   "cell_type": "code",
   "execution_count": null,
   "metadata": {},
   "outputs": [],
   "source": []
  }
 ],
 "metadata": {
  "kernelspec": {
   "display_name": "Python 3.7.11 ('medseg')",
   "language": "python",
   "name": "python3"
  },
  "language_info": {
   "codemirror_mode": {
    "name": "ipython",
    "version": 3
   },
   "file_extension": ".py",
   "mimetype": "text/x-python",
   "name": "python",
   "nbconvert_exporter": "python",
   "pygments_lexer": "ipython3",
   "version": "3.7.11"
  },
  "orig_nbformat": 4,
  "vscode": {
   "interpreter": {
    "hash": "7975e4870f4c0ee06145df79b9ac129e1cbcbe1698216d2bc189047a322f8a8c"
   }
  }
 },
 "nbformat": 4,
 "nbformat_minor": 2
}
